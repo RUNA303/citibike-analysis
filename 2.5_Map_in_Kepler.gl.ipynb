{
 "cells": [
  {
   "cell_type": "code",
   "execution_count": 7,
   "id": "a596a27a-0a3c-43a8-800d-d8c751dd3761",
   "metadata": {},
   "outputs": [],
   "source": [
    "import pandas as pd\n",
    "import os\n",
    "from keplergl import KeplerGl\n",
    "from pyproj import CRS\n",
    "import numpy as np\n",
    "from matplotlib import pyplot as plt\n",
    "import seaborn as sns\n",
    "\n",
    "\n"
   ]
  },
  {
   "cell_type": "code",
   "execution_count": 8,
   "id": "a722623c-b7e4-420a-be56-f2deb9e65ad7",
   "metadata": {},
   "outputs": [],
   "source": [
    "df = pd.read_csv('/Users/runi/Downloads/ny_data.csv', index_col = 0)\n",
    "df = pd.read_csv('/Users/runi/Downloads/processed_data.csv', index_col = 0)\n",
    "\n"
   ]
  },
  {
   "cell_type": "code",
   "execution_count": 9,
   "id": "895184e7-1c55-4f51-9e6b-c94d2d5fa60e",
   "metadata": {},
   "outputs": [
    {
     "data": {
      "text/html": [
       "<div>\n",
       "<style scoped>\n",
       "    .dataframe tbody tr th:only-of-type {\n",
       "        vertical-align: middle;\n",
       "    }\n",
       "\n",
       "    .dataframe tbody tr th {\n",
       "        vertical-align: top;\n",
       "    }\n",
       "\n",
       "    .dataframe thead th {\n",
       "        text-align: right;\n",
       "    }\n",
       "</style>\n",
       "<table border=\"1\" class=\"dataframe\">\n",
       "  <thead>\n",
       "    <tr style=\"text-align: right;\">\n",
       "      <th></th>\n",
       "      <th>start_station_name</th>\n",
       "      <th>end_station_name</th>\n",
       "      <th>start_lat</th>\n",
       "      <th>start_lng</th>\n",
       "      <th>end_lat</th>\n",
       "      <th>end_lng</th>\n",
       "      <th>count</th>\n",
       "    </tr>\n",
       "  </thead>\n",
       "  <tbody>\n",
       "    <tr>\n",
       "      <th>0</th>\n",
       "      <td>11 St &amp; Washington St</td>\n",
       "      <td>11 St &amp; Washington St</td>\n",
       "      <td>40.747251</td>\n",
       "      <td>-74.027879</td>\n",
       "      <td>40.749985</td>\n",
       "      <td>-74.02715</td>\n",
       "      <td>1</td>\n",
       "    </tr>\n",
       "    <tr>\n",
       "      <th>1</th>\n",
       "      <td>11 St &amp; Washington St</td>\n",
       "      <td>11 St &amp; Washington St</td>\n",
       "      <td>40.749817</td>\n",
       "      <td>-74.027383</td>\n",
       "      <td>40.749985</td>\n",
       "      <td>-74.02715</td>\n",
       "      <td>1</td>\n",
       "    </tr>\n",
       "    <tr>\n",
       "      <th>2</th>\n",
       "      <td>11 St &amp; Washington St</td>\n",
       "      <td>11 St &amp; Washington St</td>\n",
       "      <td>40.749857</td>\n",
       "      <td>-74.027530</td>\n",
       "      <td>40.749985</td>\n",
       "      <td>-74.02715</td>\n",
       "      <td>1</td>\n",
       "    </tr>\n",
       "    <tr>\n",
       "      <th>3</th>\n",
       "      <td>11 St &amp; Washington St</td>\n",
       "      <td>11 St &amp; Washington St</td>\n",
       "      <td>40.749882</td>\n",
       "      <td>-74.027380</td>\n",
       "      <td>40.749985</td>\n",
       "      <td>-74.02715</td>\n",
       "      <td>1</td>\n",
       "    </tr>\n",
       "    <tr>\n",
       "      <th>4</th>\n",
       "      <td>11 St &amp; Washington St</td>\n",
       "      <td>11 St &amp; Washington St</td>\n",
       "      <td>40.749885</td>\n",
       "      <td>-74.027409</td>\n",
       "      <td>40.749985</td>\n",
       "      <td>-74.02715</td>\n",
       "      <td>1</td>\n",
       "    </tr>\n",
       "  </tbody>\n",
       "</table>\n",
       "</div>"
      ],
      "text/plain": [
       "      start_station_name       end_station_name  start_lat  start_lng  \\\n",
       "0  11 St & Washington St  11 St & Washington St  40.747251 -74.027879   \n",
       "1  11 St & Washington St  11 St & Washington St  40.749817 -74.027383   \n",
       "2  11 St & Washington St  11 St & Washington St  40.749857 -74.027530   \n",
       "3  11 St & Washington St  11 St & Washington St  40.749882 -74.027380   \n",
       "4  11 St & Washington St  11 St & Washington St  40.749885 -74.027409   \n",
       "\n",
       "     end_lat   end_lng  count  \n",
       "0  40.749985 -74.02715      1  \n",
       "1  40.749985 -74.02715      1  \n",
       "2  40.749985 -74.02715      1  \n",
       "3  40.749985 -74.02715      1  \n",
       "4  40.749985 -74.02715      1  "
      ]
     },
     "execution_count": 9,
     "metadata": {},
     "output_type": "execute_result"
    }
   ],
   "source": [
    "\n",
    "\n",
    "# Add a 'count' column with a value of 1\n",
    "df[\"count\"] = 1\n",
    "\n",
    "# Group by origin and destination\n",
    "df_agg = df.groupby([\n",
    "    \"start_station_name\", \"end_station_name\",\n",
    "    \"start_lat\", \"start_lng\", \"end_lat\", \"end_lng\"\n",
    "]).agg({\"count\": \"sum\"}).reset_index()\n",
    "\n",
    "df_agg.head()\n"
   ]
  },
  {
   "cell_type": "code",
   "execution_count": 12,
   "id": "f9066013-e726-4e6c-be68-d1d468529614",
   "metadata": {},
   "outputs": [
    {
     "name": "stdout",
     "output_type": "stream",
     "text": [
      "User Guide: https://docs.kepler.gl/docs/keplergl-jupyter\n"
     ]
    },
    {
     "data": {
      "application/vnd.jupyter.widget-view+json": {
       "model_id": "8a05745ed31a43ab8f5f96c3e96c890b",
       "version_major": 2,
       "version_minor": 0
      },
      "text/plain": [
       "KeplerGl(data={'Bike Trips': {'index': [0, 1, 2, 3, 4, 5, 6, 7, 8, 9, 10, 11, 12, 13, 14, 15, 16, 17, 18, 19, …"
      ]
     },
     "execution_count": 12,
     "metadata": {},
     "output_type": "execute_result"
    }
   ],
   "source": [
    "# Create the map\n",
    "map_1 = KeplerGl(height=600)\n",
    "\n",
    "# Add the data to the map\n",
    "map_1.add_data(data=df_agg, name=\"Bike Trips\")\n",
    "\n",
    "map_1"
   ]
  },
  {
   "cell_type": "markdown",
   "id": "7fc11cf4-ceff-468e-9742-16c5c89f8225",
   "metadata": {},
   "source": [
    "\n",
    "### Kepler.gl Map Customization\n",
    "To make the map more informative and visually appealing, several settings were adjusted in Kepler.gl:\n",
    "\n",
    "Color Settings:\n",
    "The points representing stations were colored using a blue-to-red gradient to reflect starting and ending locations. This color palette helps distinguish dense bike hubs from less active stations at a glance.\n",
    "Arc Layer:\n",
    "An Arc Layer was added to visualize the direction and volume of trips between stations.\n",
    "The thickness of each arc represents the number of trips.\n",
    "The color of the arcs was set using a red-yellow gradient to emphasize high-volume connections.\n",
    "This makes it easier to spot heavily used routes (e.g., commuter corridors or popular recreational paths).\n",
    "Filters:\n",
    "A filter was applied to display trips with counts above a threshold of 100, making it easier to identify the most common paths. This helped isolate major biking flows while hiding noise from rarely-used paths.\n",
    "Tooltips:\n",
    "Tooltips were customized to display station names and trip counts when hovering over points or arcs. This provides valuable context for interpreting the connections.\n",
    "These settings were chosen to support clear visual storytelling—highlighting key bike routes, hotspots, and the relationship between urban infrastructure and rider behavior.\n",
    "\n",
    "\n"
   ]
  },
  {
   "cell_type": "markdown",
   "id": "70d59e2c-7c1c-43a5-9bf5-7676a9c5dd52",
   "metadata": {},
   "source": [
    "### Observations\n",
    "\n",
    "After applying a filter on trip count in Kepler.gl with an upper threshold of 50, the map clearly highlights the most frequent station-to-station bike trips in New York City. The densest arcs—representing the busiest routes—are concentrated in Manhattan, especially in areas like Midtown, Flatiron, and the Financial District. These zones show a high volume of trips, indicating strong commuter and tourist activity.\n",
    "\n",
    "What stands out is the intense bike traffic near transportation hubs such as Grand Central Station, Penn Station, and ferry terminals. In addition, areas like Central Park and the Brooklyn waterfront (particularly near Williamsburg and Dumbo) appear frequently in high-trip routes, suggesting their popularity for recreational cycling.\n"
   ]
  },
  {
   "cell_type": "code",
   "execution_count": 13,
   "id": "2acedb57-3cab-460c-8515-59c4e7683742",
   "metadata": {},
   "outputs": [
    {
     "name": "stdout",
     "output_type": "stream",
     "text": [
      "Map saved to nyc_bike_trips_map.html!\n"
     ]
    }
   ],
   "source": [
    "# Save your current config\n",
    "config = map_1.config\n",
    "import json\n",
    "\n",
    "# Export to a JSON file\n",
    "with open('nyc_bike_trips_map_config.json', 'w') as f:\n",
    "    json.dump(config, f)\n",
    "\n",
    "# Optionally save the map state\n",
    "map_1.save_to_html(file_name='nyc_bike_trips_map.html')\n"
   ]
  },
  {
   "cell_type": "code",
   "execution_count": null,
   "id": "bbe09beb-cd26-4d3c-a3a5-b9ef4fe58bbd",
   "metadata": {},
   "outputs": [],
   "source": []
  }
 ],
 "metadata": {
  "kernelspec": {
   "display_name": "Python 3 (ipykernel)",
   "language": "python",
   "name": "python3"
  },
  "language_info": {
   "codemirror_mode": {
    "name": "ipython",
    "version": 3
   },
   "file_extension": ".py",
   "mimetype": "text/x-python",
   "name": "python",
   "nbconvert_exporter": "python",
   "pygments_lexer": "ipython3",
   "version": "3.9.18"
  }
 },
 "nbformat": 4,
 "nbformat_minor": 5
}
